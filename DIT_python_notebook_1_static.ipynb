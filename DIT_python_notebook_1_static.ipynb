{
 "cells": [
  {
   "cell_type": "markdown",
   "metadata": {
    "id": "Vd0UVgdzrwpV"
   },
   "source": [
    "# DIT Gentle Introduction to Python\n",
    "\n",
    "## First jupyter notebook\n",
    "\n",
    "This is a text cell. It cannot be executed.\n",
    "\n",
    "It is formatted in [markdown](https://daringfireball.net/projects/markdown/).\n",
    "\n",
    "It is a good idea to use text cells to add **documentation** and to **organise** the notebook.\n",
    "\n",
    "It is possible to display code in a text cell, not intended to get executed:\n",
    "\n",
    "\n",
    "```\n",
    "# A tiny code snippet\n",
    "x = 5\n",
    "y = 3\n",
    "area = x * y\n",
    "```\n",
    "\n",
    "Next you will see some code snippets. There are two ways to execute them:\n",
    "\n",
    "- with the **arrow on the left** (on colab)\n",
    "- with the 'Run' icon on top (on jupyter)\n",
    "- with 'Shift+Enter'\n"
   ]
  },
  {
   "cell_type": "markdown",
   "metadata": {
    "id": "miZnOkxUtlSh"
   },
   "source": [
    "## Some basic snippets\n",
    "These snippets are partially derived from Python's [list of simple programs](https://wiki.python.org/moin/SimplePrograms)"
   ]
  },
  {
   "cell_type": "code",
   "execution_count": 23,
   "metadata": {
    "id": "9YAPFZeTpUBx"
   },
   "outputs": [
    {
     "name": "stdout",
     "output_type": "stream",
     "text": [
      "Ciao, mondo\n"
     ]
    }
   ],
   "source": [
    "# This is a comment (i.e. it is not going to be interpreted/executed)\n",
    "# 1. Output\n",
    "print('Ciao, mondo')  # \"Hello world\" is the classical fist code snippet"
   ]
  },
  {
   "cell_type": "code",
   "execution_count": 24,
   "metadata": {
    "id": "UzatJ--uuLd0"
   },
   "outputs": [
    {
     "name": "stdout",
     "output_type": "stream",
     "text": [
      "Ciao, .\n"
     ]
    }
   ],
   "source": [
    " # 2. Input and assignment\n",
    "name = input('Come ti chiami?\\n')\n",
    "print ('Ciao, %s.' % name)"
   ]
  },
  {
   "cell_type": "code",
   "execution_count": 25,
   "metadata": {
    "id": "MS6r7VMfu0tr"
   },
   "outputs": [
    {
     "name": "stdout",
     "output_type": "stream",
     "text": [
      "1\n",
      "4\n",
      "9\n"
     ]
    }
   ],
   "source": [
    "# 3. For loop\n",
    "for i in [1, 2, 3]:\n",
    "  print(i*i)"
   ]
  },
  {
   "cell_type": "code",
   "execution_count": 26,
   "metadata": {
    "id": "A0fBA0NxxNVt"
   },
   "outputs": [
    {
     "name": "stdout",
     "output_type": "stream",
     "text": [
      "0\n",
      "1\n",
      "2\n",
      "3\n",
      "4\n",
      "5\n",
      "6\n",
      "7\n",
      "8\n",
      "9\n",
      "10\n",
      "11\n",
      "12\n",
      "13\n",
      "14\n",
      "15\n",
      "16\n",
      "17\n",
      "18\n",
      "19\n",
      "20\n",
      "21\n",
      "22\n",
      "23\n",
      "24\n",
      "25\n",
      "26\n",
      "27\n",
      "28\n",
      "29\n",
      "30\n",
      "31\n",
      "32\n",
      "33\n",
      "34\n",
      "35\n",
      "36\n",
      "37\n",
      "38\n",
      "39\n",
      "40\n",
      "41\n",
      "42\n",
      "43\n",
      "44\n",
      "45\n",
      "46\n",
      "47\n",
      "48\n",
      "49\n"
     ]
    }
   ],
   "source": [
    "# 4. While loop\n",
    "x = 0\n",
    "while x < 50:\n",
    "  print(x)\n",
    "  x = x + 1"
   ]
  },
  {
   "cell_type": "code",
   "execution_count": 27,
   "metadata": {
    "id": "RN7rgUNgvOXl"
   },
   "outputs": [
    {
     "ename": "ValueError",
     "evalue": "invalid literal for int() with base 10: ''",
     "output_type": "error",
     "traceback": [
      "\u001b[0;31m---------------------------------------------------------------------------\u001b[0m",
      "\u001b[0;31mValueError\u001b[0m                                Traceback (most recent call last)",
      "\u001b[0;32m/var/folders/9s/1x0fr_k93mg00_tt8ynn52z80000gn/T/ipykernel_84798/2760145844.py\u001b[0m in \u001b[0;36m<module>\u001b[0;34m\u001b[0m\n\u001b[1;32m      1\u001b[0m \u001b[0;31m# 5. If/else conditional\u001b[0m\u001b[0;34m\u001b[0m\u001b[0;34m\u001b[0m\u001b[0m\n\u001b[1;32m      2\u001b[0m \u001b[0;31m# (info from https://it.wikipedia.org/wiki/Pan_European_Game_Information)\u001b[0m\u001b[0;34m\u001b[0m\u001b[0;34m\u001b[0m\u001b[0m\n\u001b[0;32m----> 3\u001b[0;31m \u001b[0mage\u001b[0m \u001b[0;34m=\u001b[0m \u001b[0mint\u001b[0m\u001b[0;34m(\u001b[0m\u001b[0minput\u001b[0m\u001b[0;34m(\u001b[0m\u001b[0;34m'How old are you?\\n'\u001b[0m\u001b[0;34m)\u001b[0m\u001b[0;34m)\u001b[0m\u001b[0;34m\u001b[0m\u001b[0;34m\u001b[0m\u001b[0m\n\u001b[0m\u001b[1;32m      4\u001b[0m \u001b[0;32mif\u001b[0m \u001b[0mage\u001b[0m \u001b[0;34m>=\u001b[0m \u001b[0;36m16\u001b[0m\u001b[0;34m:\u001b[0m\u001b[0;34m\u001b[0m\u001b[0;34m\u001b[0m\u001b[0m\n\u001b[1;32m      5\u001b[0m   \u001b[0mprint\u001b[0m\u001b[0;34m(\u001b[0m\u001b[0;34m'ok... you can play Resident Evil or Final Fantasy'\u001b[0m\u001b[0;34m)\u001b[0m\u001b[0;34m\u001b[0m\u001b[0;34m\u001b[0m\u001b[0m\n",
      "\u001b[0;31mValueError\u001b[0m: invalid literal for int() with base 10: ''"
     ]
    }
   ],
   "source": [
    "# 5. If/else conditional\n",
    "# (info from https://it.wikipedia.org/wiki/Pan_European_Game_Information)\n",
    "age = int(input('How old are you?\\n'))\n",
    "if age >= 16:\n",
    "  print('ok... you can play Resident Evil or Final Fantasy')\n",
    "else:\n",
    "  print('good... I can offer Fortnite or Street Fighter')"
   ]
  },
  {
   "cell_type": "markdown",
   "metadata": {
    "id": "sdHxo4sx2t1_"
   },
   "source": [
    "## Some numerical operations"
   ]
  },
  {
   "cell_type": "code",
   "execution_count": null,
   "metadata": {
    "id": "Yt_stlEy2MNv"
   },
   "outputs": [],
   "source": [
    "# Sum\n",
    "\n",
    "5 + 5"
   ]
  },
  {
   "cell_type": "code",
   "execution_count": null,
   "metadata": {
    "id": "i5ZIElB02abX"
   },
   "outputs": [],
   "source": [
    "# Division\n",
    "\n",
    "25 / 5"
   ]
  },
  {
   "cell_type": "code",
   "execution_count": null,
   "metadata": {
    "id": "im9iOU1F2fHU"
   },
   "outputs": [],
   "source": [
    "# Multiplication\n",
    "\n",
    "5 * 5"
   ]
  },
  {
   "cell_type": "code",
   "execution_count": null,
   "metadata": {
    "id": "YtvVQQaF2oY4"
   },
   "outputs": [],
   "source": [
    "# Power\n",
    "\n",
    "5**2"
   ]
  },
  {
   "cell_type": "code",
   "execution_count": null,
   "metadata": {
    "id": "HDCWZulI29_3"
   },
   "outputs": [],
   "source": [
    "# QUESTION: What is this going to produce?\n",
    "5**0.5"
   ]
  },
  {
   "cell_type": "code",
   "execution_count": null,
   "metadata": {
    "id": "c6U21piq3Pmy"
   },
   "outputs": [],
   "source": [
    "# QUESTION: What is this going to produce?\n",
    "5**1/2"
   ]
  },
  {
   "cell_type": "markdown",
   "metadata": {
    "id": "d1ACs-XJ3h23"
   },
   "source": [
    "So far we are using python as a calculator. Let's use it as a computing tool"
   ]
  },
  {
   "cell_type": "code",
   "execution_count": null,
   "metadata": {
    "id": "zgt7MDNV3pI4"
   },
   "outputs": [],
   "source": [
    "x = 5\n",
    "y = 7\n",
    "area = 5 * 7\n",
    "# What happened here?"
   ]
  },
  {
   "cell_type": "markdown",
   "metadata": {
    "id": "rrDFuvq_4DPE"
   },
   "source": [
    "What happens if we try to do math with text?"
   ]
  },
  {
   "cell_type": "code",
   "execution_count": null,
   "metadata": {
    "id": "TTAwKpWp4MhA"
   },
   "outputs": [],
   "source": [
    "x = 'DIT'\n",
    "y = 5\n",
    "\n",
    "# Adding a number to a string?\n",
    "x + y"
   ]
  },
  {
   "cell_type": "code",
   "execution_count": null,
   "metadata": {
    "id": "pSk2SYaa4Z2p"
   },
   "outputs": [],
   "source": [
    "# Multiplying a string times a number?\n",
    "x * y"
   ]
  },
  {
   "cell_type": "code",
   "execution_count": null,
   "metadata": {
    "id": "8joUIGWu4yEQ"
   },
   "outputs": [],
   "source": [
    "# Adding a string to a string?\n",
    "x + x"
   ]
  },
  {
   "cell_type": "code",
   "execution_count": null,
   "metadata": {
    "id": "CTv2niFG454P"
   },
   "outputs": [],
   "source": [
    "# Multiplying a string times a string?\n",
    "x * x"
   ]
  },
  {
   "cell_type": "markdown",
   "metadata": {
    "id": "2-zj7fbu5Cx7"
   },
   "source": [
    "**Let's go back to the slides for a moment**"
   ]
  },
  {
   "cell_type": "markdown",
   "metadata": {
    "id": "VBblET5nySW2"
   },
   "source": [
    "---\n",
    "## **Homework**\n",
    "\n",
    "\n",
    "\n",
    "\n",
    "\n"
   ]
  },
  {
   "cell_type": "markdown",
   "metadata": {
    "id": "pxwsSWGHIhf7"
   },
   "source": [
    "### 1. Write the algorithm to print a **square** of a given length made with \"x\". \n",
    "\n",
    "For instance, a square of length 3 should look like...\n",
    "\n",
    "\n",
    "\n",
    "```\n",
    "xxx\n",
    "xxx\n",
    "xxx\n",
    "```\n",
    "\n",
    "A square of length 1 should look like...\n",
    "\n",
    "```\n",
    "x\n",
    "```\n"
   ]
  },
  {
   "cell_type": "code",
   "execution_count": null,
   "metadata": {
    "id": "0Ruh9sDVJETl"
   },
   "outputs": [],
   "source": [
    "length = int(input('Input the length of the square\\n'))\n",
    "for i in range(length):\n",
    "    print('X' * length)\n"
   ]
  },
  {
   "cell_type": "markdown",
   "metadata": {
    "id": "r3x0ioLvJJSv"
   },
   "source": [
    "### 2. Once you are happy with your algorithm, implement it in Python in the next cell and run it. \n",
    "\n",
    "I wrote **None**, which means doing nothing. Just delete it and go ahead"
   ]
  },
  {
   "cell_type": "code",
   "execution_count": null,
   "metadata": {
    "id": "KvELPwUeJ4K_"
   },
   "outputs": [],
   "source": [
    "# Implement your square code here\n",
    "length = int(input('Input the length of the square\\n'))\n",
    "for i in range(length):\n",
    "    print('X' * length)"
   ]
  },
  {
   "cell_type": "markdown",
   "metadata": {
    "id": "kkZmpduKKD_p"
   },
   "source": [
    "### 3. Do the necessary modifications to let the user pick the length of the square.\n",
    "\n",
    "**Important:**\n",
    "\n",
    "\n",
    "*   Don't let the user choose a length of 0 or negative (right: geometrically there are squares with such dimensions... ignore that).\n",
    "*   Don't let the user pick a value higher than 100 (no actual issues, but otherwise it's going to be too large to display \"nicely\"). \n",
    "*   Check if the user is giving you an integer and **crash** the process otherwise\n",
    "\n",
    "This is called [defensive programming](https://en.wikipedia.org/wiki/Defensive_programming).\n",
    "\n",
    "Notice that, by default, *print()* adds a linebreak at the end of the string. You might have to look at the [documentation](https://docs.python.org/3.8/library/functions.html#print) (but there are ways to do this without *tweaking* the default behaviour of print).\n",
    "\n",
    "\n"
   ]
  },
  {
   "cell_type": "code",
   "execution_count": null,
   "metadata": {
    "id": "OQJbn6_vL10z"
   },
   "outputs": [],
   "source": [
    "# Write your code here\n",
    "\n",
    "\n",
    "length = int(input('Input the length of the square\\n'))\n",
    "\n",
    "# This function checks if the user input is an integer between 0 and 100\n",
    "def check_int(user_int):\n",
    "    if user_int < 0 or user_int > 100:\n",
    "        print(\"A QA Engineer huh? Please just pick an integer between 0 and 100 and not a lizard.\")\n",
    "        return False\n",
    "    else:\n",
    "        return True\n",
    "\n",
    "if check_int(length): \n",
    "    for i in range(length): \n",
    "        print('X' * length)\n"
   ]
  },
  {
   "cell_type": "markdown",
   "metadata": {
    "id": "Yl6RQuWGL56x"
   },
   "source": [
    "### 4. Convert your code into a method which parameters are both the length of the square and the used symbol.\n",
    "\n",
    "I write the **method signature** for you. You can depart from it.\n",
    "\n",
    "I \"call\" your method in the coming cells, with the expected output in the comment\n",
    "\n",
    " **Important:**\n",
    " * Don't forget to check everything you did already, following the defensive programming principle.\n",
    " * The symbol inserted when calling the method should be one single character. Hint: *len()*.\n",
    " * The character should not be a space (or we wont see anything!)"
   ]
  },
  {
   "cell_type": "code",
   "execution_count": 28,
   "metadata": {
    "id": "5Z9HmuZlMrc4"
   },
   "outputs": [
    {
     "name": "stdout",
     "output_type": "stream",
     "text": [
      "MM\n",
      "MM\n"
     ]
    }
   ],
   "source": [
    "def check_symbol(user_symbol):\n",
    "    if len(user_symbol) != 1:\n",
    "        print(\"Symbol must be a single character\")\n",
    "        return False\n",
    "    else:\n",
    "        return True\n",
    "\n",
    "# Notice that I am documenting the method\n",
    "def display_square(symbol, length):\n",
    "  \"\"\"\n",
    "  A method to display a square\n",
    "  :param str symbol: the symbol used to build the square\n",
    "  :param int length: the length of the square\n",
    "  \"\"\"\n",
    "\n",
    "  # Check that the length is reasonable\n",
    "  \n",
    "  \n",
    "  # Check that the symbol is reasonable\n",
    "  # the check_symbol function is above to make it outside of display_square scope so it can be called elsewhere\n",
    "\n",
    "  # Display the square\n",
    "  if check_symbol(symbol) and check_int(length):\n",
    "    for i in range(length):\n",
    "        print(symbol * length)\n",
    "\n",
    "display_square(input(\"Choose a symbol\\n\"), int(input(\"Choose a length\\n\")))\n"
   ]
  },
  {
   "cell_type": "code",
   "execution_count": null,
   "metadata": {},
   "outputs": [],
   "source": []
  },
  {
   "cell_type": "code",
   "execution_count": null,
   "metadata": {
    "id": "g9hDpErQNM30"
   },
   "outputs": [],
   "source": [
    "# Should display\n",
    "# 5\n",
    "display_square(\"5\", 1)\n"
   ]
  },
  {
   "cell_type": "code",
   "execution_count": null,
   "metadata": {
    "id": "zknQq_ctNjDY"
   },
   "outputs": [],
   "source": [
    "# Should display\n",
    "# ooo \n",
    "# ooo\n",
    "# ooo\n",
    "display_square(\"o\", 3)"
   ]
  },
  {
   "cell_type": "code",
   "execution_count": 39,
   "metadata": {
    "id": "QTVI65tCN0Yi"
   },
   "outputs": [
    {
     "name": "stdout",
     "output_type": "stream",
     "text": [
      "Symbol must be a single character\n"
     ]
    }
   ],
   "source": [
    "# Should trigger an error \n",
    "# (alternatively, you could use 'o', but that's not necessarily a good idea)\n",
    "display_square(\"oo\", 5)"
   ]
  },
  {
   "cell_type": "markdown",
   "metadata": {
    "id": "V5YQa54pWQqG"
   },
   "source": [
    "### 5. Expand the method by allowing it to display rectangles.\n"
   ]
  },
  {
   "cell_type": "code",
   "execution_count": 29,
   "metadata": {
    "id": "Bqcyw9xyWoe_"
   },
   "outputs": [
    {
     "name": "stdout",
     "output_type": "stream",
     "text": [
      "MMMMMMMMMM\n",
      "MMMMMMMMMM\n",
      "MMMMMMMMMM\n",
      "MMMMMMMMMM\n",
      "MMMMMMMMMM\n"
     ]
    }
   ],
   "source": [
    "def display_rectangle(symbol, vertical_len, horizontal_len):\n",
    "  \"\"\"\n",
    "  A method to display a rectangle\n",
    "  :param str symbol:          the symbol used to build the square\n",
    "  :param int vertical_len:    the vertical length of the rectangle\n",
    "  :param int horizontal_len:  the horizontal length of the rectangle\n",
    "  \"\"\"\n",
    "\n",
    "  # Check that the lengths are reasonable\n",
    "\n",
    "  \n",
    "  # Check that the symbol is reasonable\n",
    "\n",
    "\n",
    "  # Display the rectangle\n",
    "  if check_int(vertical_len) and check_int(horizontal_len) and check_symbol(symbol):\n",
    "    for i in range(vertical_len):\n",
    "      print(symbol * horizontal_len)\n",
    "\n",
    "  return\n",
    "\n",
    "display_rectangle(input(\"Choose a symbol\\n\"), int(input(\"Choose a vertical length\\n\")), int(input(\"Choose a horizontal length\\n\")))\n"
   ]
  },
  {
   "cell_type": "code",
   "execution_count": 30,
   "metadata": {
    "id": "6psKdl3TXUiT"
   },
   "outputs": [
    {
     "name": "stdout",
     "output_type": "stream",
     "text": [
      "ooo\n",
      "ooo\n",
      "ooo\n"
     ]
    }
   ],
   "source": [
    "# Should display\n",
    "# ooo \n",
    "# ooo\n",
    "# ooo\n",
    "display_rectangle(\"o\", 3, 3)"
   ]
  },
  {
   "cell_type": "code",
   "execution_count": 31,
   "metadata": {
    "id": "99ebXBm4XZj9"
   },
   "outputs": [
    {
     "name": "stdout",
     "output_type": "stream",
     "text": [
      "ooooooooo\n",
      "ooooooooo\n",
      "ooooooooo\n"
     ]
    }
   ],
   "source": [
    "# Should display\n",
    "# ooooooooo\n",
    "# ooooooooo\n",
    "# ooooooooo\n",
    "display_rectangle(\"o\", 3, 9)"
   ]
  },
  {
   "cell_type": "code",
   "execution_count": 32,
   "metadata": {
    "id": "9-ORiV9CXlrp"
   },
   "outputs": [
    {
     "name": "stdout",
     "output_type": "stream",
     "text": [
      "oo\n",
      "oo\n",
      "oo\n",
      "oo\n"
     ]
    }
   ],
   "source": [
    "# Should display\n",
    "# oo\n",
    "# oo\n",
    "# oo\n",
    "# oo\n",
    "display_rectangle(\"o\", 4, 2)"
   ]
  },
  {
   "cell_type": "markdown",
   "metadata": {
    "id": "eTt3QukPObNe"
   },
   "source": [
    "### 6. Write an algorithm to display a right triangle\n",
    "\n",
    "**Input**\n",
    "*   symbol\n",
    "*   length\n",
    "\n",
    "**Output**\n",
    "* The triangle displayed on the screen\n",
    "\n",
    "For instance, with symbol=\"*\" and length=5 we should get\n",
    "\n",
    "```\n",
    "*\n",
    "**\n",
    "***\n",
    "****\n",
    "*****\n",
    "```"
   ]
  },
  {
   "cell_type": "code",
   "execution_count": 38,
   "metadata": {
    "id": "jjbf0pFyPJdv"
   },
   "outputs": [
    {
     "name": "stdout",
     "output_type": "stream",
     "text": [
      "Symbol must be a single character\n"
     ]
    }
   ],
   "source": [
    "#Write your algorithm here\n",
    "def display_right_triangle(symbol, length):\n",
    "    \"\"\"This function display a right triangle with the given symbol and length\"\"\"\n",
    "    if check_symbol(symbol) and check_int(length):\n",
    "        for i in range(length):\n",
    "            i += 1\n",
    "            print(symbol * i)\n",
    "    return\n",
    "\n",
    "display_right_triangle(input(\"Choose a symbol\\n\"), int(input(\"Choose a length\\n\")))"
   ]
  },
  {
   "cell_type": "markdown",
   "metadata": {
    "id": "CNX_g1YkPPx8"
   },
   "source": [
    "### 7. Translate your algorithm into a method to display triangles.\n",
    "\n",
    "Follow the same guidelines as in exercise 4. I make a few calls to your method in the next cells"
   ]
  },
  {
   "cell_type": "code",
   "execution_count": null,
   "metadata": {
    "id": "ggqP1PgROsJL"
   },
   "outputs": [],
   "source": [
    "def display_triangle(symbol, length):\n",
    "  # Check that the length is reasonable\n",
    "  None\n",
    "  \n",
    "  # Check that the symbol is reasonable\n",
    "  None\n",
    "\n",
    "  # Display the triangle\n",
    "  None\n",
    "\n",
    "  return"
   ]
  },
  {
   "cell_type": "code",
   "execution_count": null,
   "metadata": {
    "id": "4EI6f-SCPrCo"
   },
   "outputs": [],
   "source": [
    "# Should display\n",
    "# o\n",
    "# oo\n",
    "# ooo\n",
    "display_triangle(\"o\", 3)"
   ]
  },
  {
   "cell_type": "code",
   "execution_count": null,
   "metadata": {
    "id": "wwte_M7mP0pu"
   },
   "outputs": [],
   "source": [
    "# Should trigger an error\n",
    "display_triangle(\"o\", -2)"
   ]
  },
  {
   "cell_type": "markdown",
   "metadata": {
    "id": "Fcjq4LWQ1vFS"
   },
   "source": [
    "### Extra 1. Let the user create not only symmetrical triangles, but ones with shorter vertical edge\n",
    "\n",
    "By defining shift as 1, we have the standard symmetrical triangle. If it becomes 2 or 3, it will become vertically shorter and shorter.\n"
   ]
  },
  {
   "cell_type": "code",
   "execution_count": null,
   "metadata": {
    "id": "jbaus3sWSlh3"
   },
   "outputs": [],
   "source": [
    "def display_triangle(symbol, length, shift=1):\n",
    "  # Check that the length is reasonable\n",
    "  None\n",
    "  \n",
    "  # Check that the symbol is reasonable\n",
    "  None\n",
    "\n",
    "  # Display the triangle\n",
    "  None\n",
    "\n",
    "  return"
   ]
  },
  {
   "cell_type": "code",
   "execution_count": null,
   "metadata": {
    "id": "WZp2qvJ_S9wQ"
   },
   "outputs": [],
   "source": [
    "# Should display\n",
    "# x\n",
    "# xxx\n",
    "display_triangle(\"o\", 5, 2)"
   ]
  },
  {
   "cell_type": "code",
   "execution_count": null,
   "metadata": {
    "id": "Fb9NR78yTYpV"
   },
   "outputs": [],
   "source": [
    "# Should display\n",
    "# x\n",
    "# xxxxxx\n",
    "# xxxxxxxxxxx\n",
    "# xxxxxxxxxxxxxxxx\n",
    "# xxxxxxxxxxxxxxxxxxxxx\n",
    "display_triangle(\"o\", 25, 5)"
   ]
  },
  {
   "cell_type": "code",
   "execution_count": null,
   "metadata": {
    "id": "Kx_uvbzgSAQ7"
   },
   "outputs": [],
   "source": []
  },
  {
   "cell_type": "markdown",
   "metadata": {
    "id": "Dkx-93xTYGaq"
   },
   "source": [
    "# End of the notebook\n",
    "\n",
    "---\n"
   ]
  }
 ],
 "metadata": {
  "colab": {
   "collapsed_sections": [],
   "name": "DIT_python_2020_notebook_1_static.ipynb",
   "provenance": []
  },
  "kernelspec": {
   "display_name": "Python 3 (ipykernel)",
   "language": "python",
   "name": "python3"
  },
  "language_info": {
   "codemirror_mode": {
    "name": "ipython",
    "version": 3
   },
   "file_extension": ".py",
   "mimetype": "text/x-python",
   "name": "python",
   "nbconvert_exporter": "python",
   "pygments_lexer": "ipython3",
   "version": "3.9.13"
  }
 },
 "nbformat": 4,
 "nbformat_minor": 1
}
